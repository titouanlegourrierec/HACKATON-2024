{
 "cells": [
  {
   "cell_type": "markdown",
   "metadata": {},
   "source": [
    "# Without Grouping"
   ]
  },
  {
   "cell_type": "code",
   "execution_count": 80,
   "metadata": {},
   "outputs": [],
   "source": [
    "# import pandas as pd\n",
    "\n",
    "# # Load data for the left sensor\n",
    "# df_left = pd.read_csv('2ia-2024-hackathon/left_accs.csv', names=['time', 'xl', 'yl', 'zl'])\n",
    "# df_left['time'] = pd.to_datetime(df_left['time'], unit='s')\n",
    "\n",
    "# # Load data for the right sensor\n",
    "# df_right = pd.read_csv('2ia-2024-hackathon/right_accs.csv', names=['time', 'xr', 'yr', 'zr'])\n",
    "# df_right['time'] = pd.to_datetime(df_right['time'], unit='s')\n",
    "\n",
    "# # Set `time` as index for both DataFrames\n",
    "# df_left.set_index('time', inplace=True)\n",
    "# df_right.set_index('time', inplace=True)\n",
    "\n",
    "# # Reindex df_left on the timestamps of df_right\n",
    "# df_left_reindexed = df_left.reindex(df_right.index)\n",
    "\n",
    "# # Interpolate the `xl`, `yl`, `zl` columns of df_left\n",
    "# df_left_interpolated = df_left_reindexed.interpolate(method='time')\n",
    "\n",
    "# df = pd.merge(df_left_interpolated, df_right, left_index=True, right_index=True)\n",
    "# columns_to_convert = ['xl', 'yl', 'zl', 'xr', 'yr', 'zr']\n",
    "# for col in columns_to_convert:\n",
    "#     df[col] = df[col].astype('float16')\n",
    "\n",
    "# df.reset_index(inplace=True)\n",
    "\n",
    "# dates_to_remove = [pd.Timestamp('2024-07-19').date(), pd.Timestamp('2024-07-26').date(), pd.Timestamp('2024-07-27').date()]\n",
    "# df = df[~df['time'].dt.date.isin(dates_to_remove)]\n",
    "\n",
    "# df['activity'] = 'none'\n",
    "\n",
    "# df.to_csv('data/data.csv', index=False)"
   ]
  },
  {
   "cell_type": "markdown",
   "metadata": {},
   "source": [
    "# With Grouping"
   ]
  },
  {
   "cell_type": "code",
   "execution_count": 101,
   "metadata": {},
   "outputs": [],
   "source": [
    "import pandas as pd\n",
    "\n",
    "# Load data for the left sensor\n",
    "df_left = pd.read_csv('2ia-2024-hackathon/left_accs.csv', names=['time', 'xl', 'yl', 'zl'])\n",
    "df_left['time'] = pd.to_datetime(df_left['time'], unit='s')\n",
    "\n",
    "# Load data for the right sensor\n",
    "df_right = pd.read_csv('2ia-2024-hackathon/right_accs.csv', names=['time', 'xr', 'yr', 'zr'])\n",
    "df_right['time'] = pd.to_datetime(df_right['time'], unit='s')\n",
    "\n",
    "# Set `time` as index for both DataFrames\n",
    "df_left.set_index('time', inplace=True)\n",
    "df_right.set_index('time', inplace=True)\n",
    "\n",
    "# Reindex df_left on the timestamps of df_right\n",
    "df_left_reindexed = df_left.reindex(df_right.index)\n",
    "\n",
    "# Interpolate the `xl`, `yl`, `zl` columns of df_left\n",
    "df_left_interpolated = df_left_reindexed.interpolate(method='time')\n",
    "\n",
    "df_right.reset_index(inplace=True)\n",
    "df_left_interpolated.reset_index(inplace=True)\n",
    "\n",
    "df = pd.merge(df_left_interpolated, df_right, on='time')\n",
    "columns_to_convert = ['xl', 'yl', 'zl', 'xr', 'yr', 'zr']\n",
    "for col in columns_to_convert:\n",
    "    df[col] = df[col].astype('float16')\n",
    "\n",
    "dates_to_remove = [pd.Timestamp('2024-07-19').date(), pd.Timestamp('2024-07-26').date(), pd.Timestamp('2024-07-27').date()]\n",
    "df = df[~df['time'].dt.date.isin(dates_to_remove)]\n",
    "\n",
    "df['time'] = df['time'].dt.floor('S')\n",
    "df = df.groupby('time').mean().reset_index()\n",
    "\n",
    "df['activity'] = 'none'\n",
    "\n",
    "df.to_csv('data/data_s.csv', index=False)"
   ]
  },
  {
   "cell_type": "markdown",
   "metadata": {},
   "source": [
    "---"
   ]
  },
  {
   "cell_type": "markdown",
   "metadata": {},
   "source": [
    "# Activities to data"
   ]
  },
  {
   "cell_type": "code",
   "execution_count": 7,
   "metadata": {},
   "outputs": [],
   "source": [
    "data = pd.read_csv('data/data_s.csv')\n",
    "activities = pd.read_csv('day1.csv')\n",
    "\n",
    "for index, row in activities.iterrows():\n",
    "    mask = (data['time'] >= row['start']) & (data['time'] <= row['end'])\n",
    "    data.loc[mask, 'activity'] = row['activity']\n",
    "\n",
    "data.to_csv('data/data_s_annotated.csv', index=False)"
   ]
  }
 ],
 "metadata": {
  "kernelspec": {
   "display_name": "base",
   "language": "python",
   "name": "python3"
  },
  "language_info": {
   "codemirror_mode": {
    "name": "ipython",
    "version": 3
   },
   "file_extension": ".py",
   "mimetype": "text/x-python",
   "name": "python",
   "nbconvert_exporter": "python",
   "pygments_lexer": "ipython3",
   "version": "3.11.8"
  }
 },
 "nbformat": 4,
 "nbformat_minor": 2
}
